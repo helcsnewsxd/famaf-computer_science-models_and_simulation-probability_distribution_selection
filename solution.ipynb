{
 "cells": [
  {
   "cell_type": "markdown",
   "metadata": {},
   "source": [
    "# Trabajo Práctico Especial: Selección de Distribuciones de Probabilidad\n",
    "\n",
    "#### Modelos y Simulación - 2024\n",
    "\n",
    "---\n"
   ]
  },
  {
   "cell_type": "markdown",
   "metadata": {},
   "source": [
    "## Integrantes\n"
   ]
  },
  {
   "cell_type": "markdown",
   "metadata": {},
   "source": [
    "- Juan Bratti\n",
    "- Emanuel Nicolás Herrador\n"
   ]
  },
  {
   "cell_type": "markdown",
   "metadata": {},
   "source": [
    "## Lectura de los datos\n"
   ]
  },
  {
   "cell_type": "code",
   "execution_count": 1,
   "metadata": {},
   "outputs": [],
   "source": [
    "import numpy as np\n",
    "import pandas as pd\n",
    "from matplotlib import pyplot as plt\n",
    "import seaborn as sns\n",
    "import scipy.stats as st\n",
    "from math import *\n",
    "\n",
    "# Sacar los FutureWarnings\n",
    "import warnings\n",
    "warnings.simplefilter(action='ignore', category=FutureWarning)\n",
    "\n",
    "# Para reproducibilidad\n",
    "np.random.seed(0)"
   ]
  },
  {
   "cell_type": "code",
   "execution_count": 2,
   "metadata": {},
   "outputs": [
    {
     "data": {
      "text/html": [
       "<div>\n",
       "<style scoped>\n",
       "    .dataframe tbody tr th:only-of-type {\n",
       "        vertical-align: middle;\n",
       "    }\n",
       "\n",
       "    .dataframe tbody tr th {\n",
       "        vertical-align: top;\n",
       "    }\n",
       "\n",
       "    .dataframe thead th {\n",
       "        text-align: right;\n",
       "    }\n",
       "</style>\n",
       "<table border=\"1\" class=\"dataframe\">\n",
       "  <thead>\n",
       "    <tr style=\"text-align: right;\">\n",
       "      <th></th>\n",
       "      <th>x</th>\n",
       "    </tr>\n",
       "  </thead>\n",
       "  <tbody>\n",
       "    <tr>\n",
       "      <th>0</th>\n",
       "      <td>2.213701</td>\n",
       "    </tr>\n",
       "    <tr>\n",
       "      <th>1</th>\n",
       "      <td>2.871230</td>\n",
       "    </tr>\n",
       "    <tr>\n",
       "      <th>2</th>\n",
       "      <td>4.031105</td>\n",
       "    </tr>\n",
       "    <tr>\n",
       "      <th>3</th>\n",
       "      <td>4.288337</td>\n",
       "    </tr>\n",
       "    <tr>\n",
       "      <th>4</th>\n",
       "      <td>0.202051</td>\n",
       "    </tr>\n",
       "  </tbody>\n",
       "</table>\n",
       "</div>"
      ],
      "text/plain": [
       "          x\n",
       "0  2.213701\n",
       "1  2.871230\n",
       "2  4.031105\n",
       "3  4.288337\n",
       "4  0.202051"
      ]
     },
     "execution_count": 2,
     "metadata": {},
     "output_type": "execute_result"
    }
   ],
   "source": [
    "# Leemos el documento\n",
    "file_url = 'https://raw.githubusercontent.com/lbiedma/mysfamaf2024/main/trabajos_finales/sample24.dat'\n",
    "df = pd.read_csv(file_url, header=None, names=['x'])\n",
    "\n",
    "# Para chequear\n",
    "df.head()"
   ]
  },
  {
   "cell_type": "markdown",
   "metadata": {},
   "source": [
    "## Actividad 1\n"
   ]
  },
  {
   "cell_type": "markdown",
   "metadata": {},
   "source": [
    "### Consigna\n",
    "\n",
    "Elaboración de la hipótesis sobre la familia de distribuciones a la que pertenece la muestra. A tal fin realizar:\n",
    "\n",
    "<ol type='a'>\n",
    "    <li>Las estimaciones muestrales de: Valores máximos y mínimos, media, varianza y “skewness” (medida de la asimetría de la distribución).</li>\n",
    "    <li>La confección de un histograma con los datos muestrales.</li>\n",
    "    <li>El estudio de cuantiles en la muestra y confeccionar el correspondiente “box plot”.</li>\n",
    "</ol>\n"
   ]
  },
  {
   "cell_type": "markdown",
   "metadata": {},
   "source": [
    "### Item A\n"
   ]
  },
  {
   "cell_type": "markdown",
   "metadata": {},
   "source": [
    "Los estimadores solicitados para nuestra muestra son los siguientes:\n"
   ]
  },
  {
   "cell_type": "code",
   "execution_count": 3,
   "metadata": {},
   "outputs": [
    {
     "data": {
      "text/html": [
       "<div>\n",
       "<style scoped>\n",
       "    .dataframe tbody tr th:only-of-type {\n",
       "        vertical-align: middle;\n",
       "    }\n",
       "\n",
       "    .dataframe tbody tr th {\n",
       "        vertical-align: top;\n",
       "    }\n",
       "\n",
       "    .dataframe thead th {\n",
       "        text-align: right;\n",
       "    }\n",
       "</style>\n",
       "<table border=\"1\" class=\"dataframe\">\n",
       "  <thead>\n",
       "    <tr style=\"text-align: right;\">\n",
       "      <th></th>\n",
       "      <th>Mínimo</th>\n",
       "      <th>Máximo</th>\n",
       "      <th>Promedio</th>\n",
       "      <th>Varianza</th>\n",
       "      <th>Asimetría</th>\n",
       "    </tr>\n",
       "  </thead>\n",
       "  <tbody>\n",
       "    <tr>\n",
       "      <th>0</th>\n",
       "      <td>0.111128</td>\n",
       "      <td>13.342856</td>\n",
       "      <td>3.017981</td>\n",
       "      <td>3.209765</td>\n",
       "      <td>1.391727</td>\n",
       "    </tr>\n",
       "  </tbody>\n",
       "</table>\n",
       "</div>"
      ],
      "text/plain": [
       "     Mínimo     Máximo  Promedio  Varianza  Asimetría\n",
       "0  0.111128  13.342856  3.017981  3.209765   1.391727"
      ]
     },
     "execution_count": 3,
     "metadata": {},
     "output_type": "execute_result"
    }
   ],
   "source": [
    "def sample_mean(data):\n",
    "    return sum(data) / len(data)\n",
    "\n",
    "\n",
    "def sample_variance(data):\n",
    "    mean = sample_mean(data)\n",
    "    return sum([(x - mean) ** 2 for x in data]) / (len(data) - 1)\n",
    "\n",
    "\n",
    "def sample_skewness(data):\n",
    "    mean = sample_mean(data)\n",
    "    var = sample_variance(data)\n",
    "    return sum([(x - mean) ** 3 for x in data]) / (len(data) * var**(3/2))\n",
    "\n",
    "\n",
    "estimators = pd.DataFrame({\n",
    "    'Mínimo': [df['x'].min()],\n",
    "    'Máximo': [df['x'].max()],\n",
    "    'Promedio': [sample_mean(df['x'])],\n",
    "    'Varianza': [sample_variance(df['x'])],\n",
    "    'Asimetría': [sample_skewness(df['x'])]\n",
    "})\n",
    "\n",
    "# También se puede usar con las funciones de la librería\n",
    "# print(\n",
    "#     df['x'].min(),\n",
    "#     df['x'].max(),\n",
    "#     df['x'].mean(),\n",
    "#     df['x'].std()**2,\n",
    "#     df['x'].skew()\n",
    "# )\n",
    "\n",
    "estimators"
   ]
  },
  {
   "cell_type": "markdown",
   "metadata": {},
   "source": [
    "### Item B\n"
   ]
  },
  {
   "cell_type": "markdown",
   "metadata": {},
   "source": [
    "Si graficamos el histograma, obtenemos lo siguiente:\n"
   ]
  },
  {
   "cell_type": "code",
   "execution_count": 4,
   "metadata": {},
   "outputs": [
    {
     "data": {
      "image/png": "[encoded data removed]",
      "text/plain": [
       "<Figure size 640x480 with 1 Axes>"
      ]
     },
     "metadata": {},
     "output_type": "display_data"
    }
   ],
   "source": [
    "sns.histplot(data=df['x'], color='orange', kde=True, bins=80)\n",
    "\n",
    "plt.title('Histograma')\n",
    "plt.xlabel('Datos')\n",
    "plt.ylabel('Frecuencia')\n",
    "\n",
    "plt.show()"
   ]
  },
  {
   "cell_type": "markdown",
   "metadata": {},
   "source": [
    "### Item C\n"
   ]
  },
  {
   "cell_type": "markdown",
   "metadata": {},
   "source": [
    "Vamos a considerar el estudio de los cuantiles más importantes a la hora de realizar el gráfico de _Box-Plot_, los cuales corresponden entonces a los cuantiles $0.25$, $0.5$ y $0.75$.\n",
    "\n",
    "A su vez, para ver si existen datos _outliers_, vamos a considerar también los cuantiles $0.05$ y $0.95$.\n",
    "\n",
    "A continuación, se presentan los resultados obtenidos:\n"
   ]
  },
  {
   "cell_type": "code",
   "execution_count": 5,
   "metadata": {},
   "outputs": [
    {
     "data": {
      "text/plain": [
       "0.05    0.753190\n",
       "0.25    1.729471\n",
       "0.50    2.836248\n",
       "0.75    4.030335\n",
       "0.95    5.924371\n",
       "Name: x, dtype: float64"
      ]
     },
     "execution_count": 5,
     "metadata": {},
     "output_type": "execute_result"
    }
   ],
   "source": [
    "quantile_list = [0.05, 0.25, 0.5, 0.75, 0.95]\n",
    "\n",
    "df['x'].quantile(quantile_list)"
   ]
  },
  {
   "cell_type": "markdown",
   "metadata": {},
   "source": [
    "Se puede notar que sí existen _outliers_, más que nada a la derecha de la distribución (lo cual puede verse fácilmente con el _histograma_ anterior), porque el máximo es $13.342856$ y el cuantil $0.95$ es $5.924371$.\n",
    "\n",
    "Todo esto queda más claro cuando se realiza el gráfico de _Box-Plot_.\n"
   ]
  },
  {
   "cell_type": "code",
   "execution_count": 6,
   "metadata": {},
   "outputs": [
    {
     "data": {
      "image/png": "[encoded data removed]",
      "text/plain": [
       "<Figure size 640x480 with 1 Axes>"
      ]
     },
     "metadata": {},
     "output_type": "display_data"
    }
   ],
   "source": [
    "sns.boxplot(data=df, x='x', color='orange', fliersize=5, showmeans=True, meanprops={\n",
    "            'marker': '.', 'markerfacecolor': 'black', 'markeredgecolor': 'black'})\n",
    "\n",
    "plt.title('Box-Plot')\n",
    "plt.xlabel('Datos')\n",
    "\n",
    "plt.show()"
   ]
  },
  {
   "cell_type": "markdown",
   "metadata": {},
   "source": [
    "## Actividad 2\n"
   ]
  },
  {
   "cell_type": "markdown",
   "metadata": {},
   "source": [
    "### Consigna\n",
    "\n",
    "Proposición de al menos dos familias de distribuciones de probabilidad como modelos de ajuste de los datos. Realizar la estimación de los parámetros de las correspondientes familias de distribuciones seleccionadas, utilizando el método de maxima verosimilitud.\n"
   ]
  },
  {
   "cell_type": "markdown",
   "metadata": {},
   "source": [
    "### Resolución\n"
   ]
  },
  {
   "cell_type": "markdown",
   "metadata": {},
   "source": [
    "Vamos a proponer como modelos de ajuste de los datos a las familias de las distribuciones _Normal_ y _Gamma_.\n",
    "\n",
    "Para ello, tenemos que realizar la estimación de sus parámetros para ver si tiene _sentido_ lo que estamos queriendo realizar. Por ello mismo, veamos cada caso:\n",
    "\n",
    "- **Normal**: Tiene como parámetros la media $\\mu$ y el desvío estándar $\\sigma$. Para estimarlos, se usan los estimadores de máxima verosimilitud calculados en el _EJ1 - Item A_, es decir, el promedio y el desvío muestral ($\\bar{X}$ y $S(X)$)\n",
    "- **Gamma**: Tiene como parámetros a $\\alpha$ y $\\beta$. Para estimarlos, primero notemos que $E[X] = \\alpha\\beta$ y que $Var[X] = \\alpha\\beta^2$. Por lo tanto, podemos despejar obteniendo que $\\beta = \\frac{Var[X]}{E[X]}$ y $\\alpha = \\frac{E[X]}{\\beta}$.\n",
    "  Dado esto, entonces, usamos los estimadores de máxima verosimilitud calculados en el _EJ1 - Item A_, es decir, el promedio y el desvío muestral ($\\bar{X}$ y $S(X)$) para estimar $\\alpha$ y $\\beta$, quedándonos $$\\beta = \\frac{S^2(X)}{\\bar{X}} \\quad \\text{y} \\quad \\alpha = \\frac{\\bar{X}}{\\beta}$$\n",
    "\n",
    "Teniendo esto en cuenta, vamos a graficar ejemplos de las distribuciones _Normal_ y _Gamma_ con los parámetros estimados.\n"
   ]
  },
  {
   "cell_type": "code",
   "execution_count": 7,
   "metadata": {},
   "outputs": [
    {
     "data": {
      "image/png": "[encoded data removed]",
      "text/plain": [
       "<Figure size 640x480 with 1 Axes>"
      ]
     },
     "metadata": {},
     "output_type": "display_data"
    }
   ],
   "source": [
    "mean = sample_mean(df['x'])\n",
    "var = sample_variance(df['x'])\n",
    "std = np.sqrt(var)\n",
    "\n",
    "# Datos\n",
    "sns.kdeplot(data=df['x'], color='orange')\n",
    "\n",
    "# Normal\n",
    "normal = st.norm(mean, std)\n",
    "normal_sample = normal.rvs(50_000)\n",
    "sns.kdeplot(normal_sample, color='blue')\n",
    "\n",
    "# Gamma\n",
    "# Tenemos que E[X] = a*b y Var[X] = a*b^2\n",
    "# Luego, b = Var[X] / E[X] y a = E[X] / b\n",
    "# Como los estimadores de máxima verosimilitud son mean y var tenemos:\n",
    "beta = var / mean\n",
    "alpha = mean / beta\n",
    "gamma = st.gamma(a=alpha, scale=beta)\n",
    "gamma_sample = gamma.rvs(50_000)\n",
    "sns.kdeplot(gamma_sample, color='green')\n",
    "\n",
    "plt.title('Distribuciones propuestas')\n",
    "plt.xlabel('Datos')\n",
    "plt.ylabel('Densidad')\n",
    "\n",
    "plt.legend(['Datos', f'Normal ({mean:.2f}, {std:.2f})',\n",
    "            f'Gamma ({alpha:.2f}, {beta:.2f})'])\n",
    "\n",
    "plt.show()"
   ]
  },
  {
   "cell_type": "markdown",
   "metadata": {},
   "source": [
    "## Actividad 3\n"
   ]
  },
  {
   "cell_type": "markdown",
   "metadata": {},
   "source": [
    "### Consigna\n",
    "\n",
    "Determinacion de la calidad de los ajustes logrados.\n",
    "\n",
    "<ol type='a'>\n",
    "    <li>Realizar una comparación de frecuencias entre el histograma de datos y cada una de las funciones de densidad f(x) propuestas para el ajuste. A tal fin, superponer sobre cada barra del histograma de datos una barra con altura igual a ∆bf(x), donde ∆b corresponde al ancho de intervalo en el histograma y f(x) es cada una de las densidades propuestas.</li>\n",
    "    <li>Estimar el p-valor de la prueba de la hipótesis de que los datos provienen las distribuciones sugeridas, utilizando la aproximación ji-cuadrada.</li>\n",
    "    <li>Estimar el p-valor de la prueba de la hipótesis de que los datos provienen la distribuciones sugeridas, en base al estadístico de Kolmogorov-Smirnov.</li>\n",
    "    <li>Seleccionar finalmente una de las densidades de probabilidad propuestas y argumentar los motivos de dicha elección.</li>\n",
    "\n",
    "</ol>\n"
   ]
  },
  {
   "cell_type": "markdown",
   "metadata": {},
   "source": [
    "### Funciones de densidad acumuladas\n"
   ]
  },
  {
   "cell_type": "markdown",
   "metadata": {},
   "source": [
    "Para este punto se tiene en cuenta que\n",
    "$$\\int_{-\\infty}^x N(0,1)(t)dt$$\n",
    "se calcula con `math.erf(x / math.sqrt(2.))/2 + 0.5` tal y como lo vimos en el práctico.\n"
   ]
  },
  {
   "cell_type": "code",
   "execution_count": 8,
   "metadata": {},
   "outputs": [],
   "source": [
    "def normal_cumulative_z(x):\n",
    "    return erf(x / sqrt(2)) / 2 + 0.5\n",
    "\n",
    "\n",
    "def normal_cumulative(x, mean, std):\n",
    "    return normal_cumulative_z((x - mean) / std)"
   ]
  },
  {
   "cell_type": "markdown",
   "metadata": {},
   "source": [
    "### Item A (PREGUNTAR A LOS PROFES)\n"
   ]
  },
  {
   "cell_type": "markdown",
   "metadata": {},
   "source": [
    "### Item B\n"
   ]
  },
  {
   "cell_type": "markdown",
   "metadata": {},
   "source": [
    "Para este punto, si bien los datos que tenemos son continuos, podemos usar el test de $\\chi^2$ para ver si los datos provienen de una distribución _Normal_ o _Gamma_, haciendo una discretización de estos. Es decir, agrupando los datos en $k$ intervalos consecutivos y considerando $N_i$ como la cantidad observada en el $i$-ésimo intervalo, y $p_i$ como la probabilidad teórica (dada por la distribución que estamos considerando) de que \"caiga\" en el intervalo.\n"
   ]
  },
  {
   "cell_type": "code",
   "execution_count": 9,
   "metadata": {},
   "outputs": [],
   "source": [
    "# Parámetros de división\n",
    "K = 30\n",
    "L, R = 0.1, 8\n",
    "\n",
    "# Dividimos en intervalos (K + 1)\n",
    "intervals = np.linspace(L, R, K)\n",
    "\n",
    "# Contamos las observaciones\n",
    "obs = np.zeros(K+1)\n",
    "for x in df['x']:\n",
    "    i = 0\n",
    "    while i < K and x > intervals[i]:\n",
    "        i += 1\n",
    "    obs[i] += 1"
   ]
  },
  {
   "cell_type": "markdown",
   "metadata": {},
   "source": [
    "Hecha esta división por intervalos, calculamos las probabilidades teóricas de las dos distribuciones propuestas:\n"
   ]
  },
  {
   "cell_type": "code",
   "execution_count": 10,
   "metadata": {},
   "outputs": [],
   "source": [
    "def calculate_interval_prob(intervals, F):\n",
    "    p = np.zeros(K+1)\n",
    "    for i in range(len(intervals)):\n",
    "        p[i] = F(intervals[i])\n",
    "        if i > 0:\n",
    "            p[i] -= F(intervals[i-1])\n",
    "    p[K] = 1 - F(intervals[K-1])\n",
    "    return p\n",
    "\n",
    "\n",
    "# Calculamos las probabilidades\n",
    "p_normal = calculate_interval_prob(\n",
    "    intervals, lambda x: normal_cumulative(x, mean, std))\n",
    "p_gamma = calculate_interval_prob(intervals, gamma.cdf)"
   ]
  },
  {
   "cell_type": "markdown",
   "metadata": {},
   "source": [
    "Ahora, con ello, podemos ya calcular el estadístico de $\\chi^2$ y el p-valor asociado como vimos en clase.\n"
   ]
  },
  {
   "cell_type": "code",
   "execution_count": 11,
   "metadata": {},
   "outputs": [
    {
     "data": {
      "text/html": [
       "<div>\n",
       "<style scoped>\n",
       "    .dataframe tbody tr th:only-of-type {\n",
       "        vertical-align: middle;\n",
       "    }\n",
       "\n",
       "    .dataframe tbody tr th {\n",
       "        vertical-align: top;\n",
       "    }\n",
       "\n",
       "    .dataframe thead th {\n",
       "        text-align: right;\n",
       "    }\n",
       "</style>\n",
       "<table border=\"1\" class=\"dataframe\">\n",
       "  <thead>\n",
       "    <tr style=\"text-align: right;\">\n",
       "      <th></th>\n",
       "      <th>Distribución</th>\n",
       "      <th>Estadístico</th>\n",
       "      <th>Grados de libertad</th>\n",
       "      <th>P - Valor</th>\n",
       "    </tr>\n",
       "  </thead>\n",
       "  <tbody>\n",
       "    <tr>\n",
       "      <th>0</th>\n",
       "      <td>Normal</td>\n",
       "      <td>68.141781</td>\n",
       "      <td>28</td>\n",
       "      <td>0.000034</td>\n",
       "    </tr>\n",
       "    <tr>\n",
       "      <th>1</th>\n",
       "      <td>Gamma</td>\n",
       "      <td>23.143230</td>\n",
       "      <td>28</td>\n",
       "      <td>0.725839</td>\n",
       "    </tr>\n",
       "  </tbody>\n",
       "</table>\n",
       "</div>"
      ],
      "text/plain": [
       "  Distribución  Estadístico  Grados de libertad  P - Valor\n",
       "0       Normal    68.141781                  28   0.000034\n",
       "1        Gamma    23.143230                  28   0.725839"
      ]
     },
     "execution_count": 11,
     "metadata": {},
     "output_type": "execute_result"
    }
   ],
   "source": [
    "def pearson_estimator(N, p):\n",
    "    assert len(N) == len(p)\n",
    "\n",
    "    n = sum(N)\n",
    "    return sum((N[i] - n * p[i]) ** 2 / (n * p[i]) for i in range(len(N)))\n",
    "\n",
    "\n",
    "def pearson_p_value(t, df):\n",
    "    return 1.0 - st.chi2.cdf(t, df)\n",
    "\n",
    "\n",
    "# NORMAL\n",
    "normal_unspecified_params = 2\n",
    "t_normal = pearson_estimator(obs, p_normal)\n",
    "p_value_normal = pearson_p_value(t_normal, len(\n",
    "    p_normal) - 1 - normal_unspecified_params)\n",
    "\n",
    "# GAMMA\n",
    "gamma_unspecified_params = 2\n",
    "t_gamma = pearson_estimator(obs, p_gamma)\n",
    "p_value_gamma = pearson_p_value(\n",
    "    t_gamma, len(p_gamma) - 1 - gamma_unspecified_params)\n",
    "\n",
    "# Mostramos los resultados\n",
    "pearson = pd.DataFrame({\n",
    "    'Distribución': ['Normal', 'Gamma'],\n",
    "    'Estadístico': [t_normal, t_gamma],\n",
    "    'Grados de libertad': [len(p_normal) - 1 - normal_unspecified_params, len(p_gamma) - 1 - gamma_unspecified_params],\n",
    "    'P - Valor': [p_value_normal, p_value_gamma]\n",
    "})\n",
    "\n",
    "pearson"
   ]
  },
  {
   "cell_type": "markdown",
   "metadata": {},
   "source": [
    "Luego, si consideramos un nivel de confianza del $95\\%$, entonces si el p-valor es menor a $0.05$, rechazamos la hipótesis nula de que los datos provienen de la distribución propuesta.\n",
    "\n",
    "Ello nos dice, entonces que se rechaza la hipótesis nula de que los datos provienen de una distribución _Normal_, pero **no** se rechaza la hipótesis nula de que los datos provienen de una distribución _Gamma_.\n",
    "\n",
    "Sin embargo, algo que tenemos que tener en cuenta es que el test de $\\chi^2$ no es muy bueno para distribuciones continuas, dado que no tiene en cuenta la distribución de los datos en cada intervalo, sino que solo la cantidad de datos en cada uno. Por ello, vamos a realizar el test de Kolmogorov-Smirnov que nos va a brindar una mejor idea de si los datos provienen de una distribución _Normal_ o _Gamma_.\n"
   ]
  },
  {
   "cell_type": "markdown",
   "metadata": {},
   "source": [
    "### Item C\n"
   ]
  },
  {
   "cell_type": "markdown",
   "metadata": {},
   "source": [
    "Para este punto, vamos a considerar la prueba de Kolmogorov-Smirnov para ver si los datos provienen de una distribución _Normal_ o _Gamma_, dado que nuestros datos son _continuos_. Para ello, vamos a calcular el estadístico de Kolmogorov-Smirnov y el p-valor asociado (con simulación).\n"
   ]
  },
  {
   "cell_type": "code",
   "execution_count": 12,
   "metadata": {},
   "outputs": [
    {
     "data": {
      "text/html": [
       "<div>\n",
       "<style scoped>\n",
       "    .dataframe tbody tr th:only-of-type {\n",
       "        vertical-align: middle;\n",
       "    }\n",
       "\n",
       "    .dataframe tbody tr th {\n",
       "        vertical-align: top;\n",
       "    }\n",
       "\n",
       "    .dataframe thead th {\n",
       "        text-align: right;\n",
       "    }\n",
       "</style>\n",
       "<table border=\"1\" class=\"dataframe\">\n",
       "  <thead>\n",
       "    <tr style=\"text-align: right;\">\n",
       "      <th></th>\n",
       "      <th>Distribución</th>\n",
       "      <th>Estadístico</th>\n",
       "      <th>P - Valor</th>\n",
       "    </tr>\n",
       "  </thead>\n",
       "  <tbody>\n",
       "    <tr>\n",
       "      <th>0</th>\n",
       "      <td>Normal</td>\n",
       "      <td>0.065913</td>\n",
       "      <td>0.003</td>\n",
       "    </tr>\n",
       "    <tr>\n",
       "      <th>1</th>\n",
       "      <td>Gamma</td>\n",
       "      <td>0.044331</td>\n",
       "      <td>0.175</td>\n",
       "    </tr>\n",
       "  </tbody>\n",
       "</table>\n",
       "</div>"
      ],
      "text/plain": [
       "  Distribución  Estadístico  P - Valor\n",
       "0       Normal     0.065913      0.003\n",
       "1        Gamma     0.044331      0.175"
      ]
     },
     "execution_count": 12,
     "metadata": {},
     "output_type": "execute_result"
    }
   ],
   "source": [
    "def kolmogorov_estimator(sample, F):\n",
    "    n = len(sample)\n",
    "    s_sample = sorted(sample)\n",
    "\n",
    "    D = 0\n",
    "    for i in range(n):\n",
    "        D = max((i + 1) / n - F(s_sample[i]), F(s_sample[i]) - i / n, D)\n",
    "\n",
    "    return D\n",
    "\n",
    "\n",
    "N_SIM = 1_000\n",
    "\n",
    "# NORMAL\n",
    "D_normal = kolmogorov_estimator(\n",
    "    df['x'], lambda x: normal_cumulative(x, mean, std))\n",
    "p_value_normal = 0\n",
    "for _ in range(N_SIM):\n",
    "    sample = normal.rvs(len(df))\n",
    "    mean_sim, s_sim = sample_mean(sample), np.sqrt(sample_variance(sample))\n",
    "    D_sim = kolmogorov_estimator(\n",
    "        sample, lambda x: normal_cumulative(x, mean_sim, s_sim))\n",
    "    if D_sim >= D_normal:\n",
    "        p_value_normal += 1\n",
    "p_value_normal /= N_SIM\n",
    "\n",
    "# GAMMA\n",
    "D_gamma = kolmogorov_estimator(df['x'], gamma.cdf)\n",
    "p_value_gamma = 0\n",
    "for _ in range(N_SIM):\n",
    "    sample = gamma.rvs(len(df))\n",
    "    mean_sim, var_sim = sample_mean(sample), sample_variance(sample)\n",
    "    beta_sim = var_sim / mean_sim\n",
    "    alpha_sim = mean_sim / beta_sim\n",
    "    D_sim = kolmogorov_estimator(\n",
    "        sample, st.gamma(a=alpha_sim, scale=beta_sim).cdf)\n",
    "    if D_sim >= D_gamma:\n",
    "        p_value_gamma += 1\n",
    "p_value_gamma /= N_SIM\n",
    "\n",
    "# Mostramos los resultados\n",
    "kolmogorov = pd.DataFrame({\n",
    "    'Distribución': ['Normal', 'Gamma'],\n",
    "    'Estadístico': [D_normal, D_gamma],\n",
    "    'P - Valor': [p_value_normal, p_value_gamma]\n",
    "})\n",
    "\n",
    "kolmogorov"
   ]
  },
  {
   "cell_type": "markdown",
   "metadata": {},
   "source": [
    "Luego, entonces, con un nivel de confianza del $95\\%$, volvemos a rechazar que los datos provienen de una distribución _Normal_, pero **no** rechazamos que los datos provienen de una distribución _Gamma_.\n"
   ]
  },
  {
   "cell_type": "markdown",
   "metadata": {},
   "source": [
    "### Item D\n"
   ]
  },
  {
   "cell_type": "markdown",
   "metadata": {},
   "source": [
    "La densidad de probabilidad que seleccionamos es la _Gamma_, dado que es la que mejor se ajusta a los datos que tenemos, ya que no se rechaza la hipótesis nula de que los datos provienen de una distribución _Gamma_.\n",
    "\n",
    "Si bien en el gráfico de densidad de nuestros datos con muestras de las distribuciones _Normal_ y _Gamma_ parece que la _Normal_ se ajusta mejor, esto no es así, ya que algo a considerar es que nuestros datos **no presentan** valores negativos. Ahora, ¿esto es _tan_ relevante? Sí, y para ello vamos a calcular la probabilidad de que se obtenga una muestra de $300$ sin ningún valor negativo en el caso de una _Normal_:\n"
   ]
  },
  {
   "cell_type": "code",
   "execution_count": 13,
   "metadata": {},
   "outputs": [
    {
     "name": "stdout",
     "output_type": "stream",
     "text": [
      "Probabilidad de NO obtener un valor menor a 0 en la muestra: 7.230327509088463e-07\n"
     ]
    }
   ],
   "source": [
    "prob = (1 - normal_cumulative(0, mean, std)) ** len(df['x'])\n",
    "print(f'Probabilidad de NO obtener un valor menor a 0 en la muestra: {prob}')"
   ]
  },
  {
   "cell_type": "markdown",
   "metadata": {},
   "source": [
    "Luego, entonces, podemos ver que la probabilidad de que se obtenga una muestra de $300$ sin ningún valor negativo en el caso de una _Normal_ es muy baja, por lo que este hecho es _muy_ relevante y pesa mucho en la elección de la distribución _Gamma_.\n",
    "\n",
    "Finalmente, entonces, por esta cuestión, por el hecho de que la _Gamma_ respeta no tener valores negativos y por los resultados obtenidos en los tests de hipótesis, elegimos la distribución _Gamma_ como la que mejor se ajusta a nuestros datos.\n"
   ]
  },
  {
   "cell_type": "markdown",
   "metadata": {},
   "source": [
    "Sin embargo, una aclaración que queremos hacer es que todo este análisis considera que los datos muestrales _no están sesgados_ (respecto a ser solo positivos), sino que son una muestra uniforme de la distribución real.\n"
   ]
  }
 ],
 "metadata": {
  "kernelspec": {
   "display_name": "famaf-mys",
   "language": "python",
   "name": "python3"
  },
  "language_info": {
   "codemirror_mode": {
    "name": "ipython",
    "version": 3
   },
   "file_extension": ".py",
   "mimetype": "text/x-python",
   "name": "python",
   "nbconvert_exporter": "python",
   "pygments_lexer": "ipython3",
   "version": "3.11.8"
  }
 },
 "nbformat": 4,
 "nbformat_minor": 2
}
